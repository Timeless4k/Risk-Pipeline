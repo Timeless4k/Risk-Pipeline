{
  "cells": [
    {
      "cell_type": "markdown",
      "metadata": {},
      "source": [
        "# RiskPipeline - Quick Start Guide\n",
        "\n",
        "This notebook demonstrates how to use the RiskPipeline for volatility forecasting.\n",
        "\n",
        "## 1. Basic Usage"
      ]
    },
    {
      "cell_type": "code",
      "execution_count": null,
      "metadata": {},
      "outputs": [],
      "source": [
        "# Import the pipeline\n",
        "from risk_pipeline import RiskPipeline, AssetConfig\n",
        "import pandas as pd\n",
        "import matplotlib.pyplot as plt\n",
        "\n",
        "# Initialize pipeline\n",
        "pipeline = RiskPipeline()\n",
        "\n",
        "print(\"Pipeline initialized successfully!\")"
      ]
    },
    {
      "cell_type": "markdown",
      "metadata": {},
      "source": [
        "## 2. Run Complete Pipeline\n",
        "\n",
        "Run the full pipeline on all assets:"
      ]
    },
    {
      "cell_type": "code",
      "execution_count": null,
      "metadata": {},
      "outputs": [],
      "source": [
        "# Run pipeline on subset of assets for quick test\n",
        "test_assets = ['AAPL', 'IOZ.AX']\n",
        "pipeline.run_pipeline(assets=test_assets)\n",
        "\n",
        "print(\"\\nPipeline execution completed!\")"
      ]
    },
    {
      "cell_type": "markdown",
      "metadata": {},
      "source": [
        "## 3. Visualize Results"
      ]
    },
    {
      "cell_type": "code",
      "execution_count": null,
      "metadata": {},
      "outputs": [],
      "source": [
        "# Load and display results\n",
        "results_df = pd.read_csv('results/model_performance.csv')\n",
        "print(\"Model Performance Summary:\")\n",
        "print(results_df.head(10))\n",
        "\n",
        "# Plot performance comparison\n",
        "from visualization import VolatilityVisualizer\n",
        "visualizer = VolatilityVisualizer()\n",
        "visualizer.plot_performance_comparison(pipeline.results, 'regression')"
      ]
    },
    {
      "cell_type": "markdown",
      "metadata": {},
      "source": [
        "## 4. Custom Analysis\n",
        "\n",
        "Example of running analysis on a single asset:"
      ]
    },
    {
      "cell_type": "code",
      "execution_count": null,
      "metadata": {},
      "outputs": [],
      "source": [
        "# Analyze specific asset\n",
        "asset = 'AAPL'\n",
        "if asset in pipeline.results:\n",
        "    reg_results = pipeline.results[asset]['regression']\n",
        "    \n",
        "    # Compare models\n",
        "    for model, metrics in reg_results.items():\n",
        "        if 'R2' in metrics:\n",
        "            print(f\"{model}: R\u00b2 = {metrics['R2']:.4f}, RMSE = {metrics['RMSE']:.4f}\")"
      ]
    }
  ],
  "metadata": {
    "kernelspec": {
      "display_name": "Python 3",
      "language": "python",
      "name": "python3"
    },
    "language_info": {
      "name": "python",
      "version": "3.8.0"
    }
  },
  "nbformat": 4,
  "nbformat_minor": 4
}